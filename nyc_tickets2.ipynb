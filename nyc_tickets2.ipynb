{
 "cells": [
  {
   "cell_type": "markdown",
   "metadata": {
    "pycharm": {
     "name": "#%%\n"
    }
   },
   "source": [
    "In questo progetto relativo al corso di Big Data per l'università Roma Tre, si vuole analizzare il \n",
    "dataset:https://www.kaggle.com/new-york-city/nyc-parking-tickets .\n",
    "Il dataset contiene le multe effettuate dalla polizia di NYC nel periodo [Agosto '13-Giugno '17] e l'obiettivo di questa analisi è quella di estrarre informazioni tramite queries relative a determinate condizioni e successivamente memorizzarle in un database NOSQL.\n",
    "Infine, si effettuerà tramite la tecnica di Machine Learning LogisticRegression, una previsione mirata a comprendere lo stato di provenienza delle macchine maggiormente a rischio di multe. \n",
    "\n"
   ]
  },
  {
   "cell_type": "code",
   "execution_count": 2,
   "metadata": {
    "pycharm": {
     "name": "#%%\n"
    }
   },
   "outputs": [],
   "source": [
    "#Import per il progetto\n",
    "from pyspark import SparkConf\n",
    "from pyspark.sql import SparkSession\n",
    "from pyspark.sql.functions import *\n",
    "from cassandra.cluster import Cluster\n",
    "from pyspark.ml.feature import StringIndexer\n",
    "from pyspark.ml.feature import OneHotEncoder\n",
    "from pyspark.ml.feature import VectorAssembler\n",
    "from pyspark.ml.classification import LogisticRegression\n",
    "from pyspark.ml import Pipeline\n",
    "from pyspark.ml.evaluation import BinaryClassificationEvaluator\n",
    "from pyspark.ml.evaluation import MulticlassClassificationEvaluator\n"
   ]
  },
  {
   "cell_type": "markdown",
   "metadata": {},
   "source": [
    "Effettuiamo la connessione con il Database Cassandra, attivo tramite il contenitore Docker presso il localhost avente la porta :9042. Viene specificato in session il nome del keyspace presente su Apache Cassandra."
   ]
  },
  {
   "cell_type": "code",
   "execution_count": 3,
   "metadata": {
    "pycharm": {
     "name": "#%%\n"
    }
   },
   "outputs": [],
   "source": [
    "cas_cluster = Cluster(['127.0.0.1'], port= 9042)\n",
    "session = cas_cluster.connect('mykeyspace')"
   ]
  },
  {
   "cell_type": "markdown",
   "metadata": {},
   "source": [
    "Vengono adesso settati i parametri di configurazione che serviranno alla Session per avviarsi."
   ]
  },
  {
   "cell_type": "code",
   "execution_count": 3,
   "metadata": {
    "pycharm": {
     "name": "#%%\n"
    }
   },
   "outputs": [],
   "source": [
    "sparkConf=SparkConf().setMaster(\"local[*]\")\\\n",
    "                     .setAppName(\"project\")\\\n",
    "                     .setAll([('spark.executor.memory','16g'),\n",
    "                            ('spark.executor.cores','4'),\n",
    "                            ('spark.cores.max','8'),\n",
    "                            ('spark.sql.debug.maxToStringFields','1000'),\n",
    "                            ('spark.driver.memory','24g'),\n",
    "                            ('spark.driver.maxResultSize','16g')])"
   ]
  },
  {
   "cell_type": "code",
   "execution_count": 4,
   "metadata": {
    "pycharm": {
     "name": "#%%\n"
    }
   },
   "outputs": [],
   "source": [
    "spark=SparkSession.builder.config(conf=sparkConf).getOrCreate()"
   ]
  },
  {
   "cell_type": "markdown",
   "metadata": {},
   "source": [
    "Caricamento del .csv dopo la fase di pulizia del file del cleaning.py"
   ]
  },
  {
   "cell_type": "code",
   "execution_count": 5,
   "metadata": {
    "pycharm": {
     "name": "#%%\n"
    }
   },
   "outputs": [],
   "source": [
    "nyc_tickets=spark.read.csv('nyc_tickets_13_17.csv',header=True,inferSchema=True,ignoreLeadingWhiteSpace=True,ignoreTrailingWhiteSpace=True)\n"
   ]
  },
  {
   "cell_type": "code",
   "execution_count": 7,
   "metadata": {
    "pycharm": {
     "name": "#%%\n"
    }
   },
   "outputs": [
    {
     "name": "stdout",
     "output_type": "stream",
     "text": [
      "root\n",
      " |-- Summons Number: long (nullable = true)\n",
      " |-- Plate ID: string (nullable = true)\n",
      " |-- Registration State: string (nullable = true)\n",
      " |-- Plate Type: string (nullable = true)\n",
      " |-- Issue Date: string (nullable = true)\n",
      " |-- Violation Code: integer (nullable = true)\n",
      " |-- Vehicle Body Type: string (nullable = true)\n",
      " |-- Vehicle Make: string (nullable = true)\n",
      " |-- Issuing Agency: string (nullable = true)\n",
      " |-- Street Code1: integer (nullable = true)\n",
      " |-- Street Code2: integer (nullable = true)\n",
      " |-- Street Code3: integer (nullable = true)\n",
      " |-- Vehicle Expiration Date: string (nullable = true)\n",
      " |-- Violation Location: double (nullable = true)\n",
      " |-- Violation Precinct: double (nullable = true)\n",
      " |-- Issuer Precinct: double (nullable = true)\n",
      " |-- Issuer Code: double (nullable = true)\n",
      " |-- Issuer Command: string (nullable = true)\n",
      " |-- Issuer Squad: string (nullable = true)\n",
      " |-- Violation Time: string (nullable = true)\n",
      " |-- Time First Observed: string (nullable = true)\n",
      " |-- Violation County: string (nullable = true)\n",
      " |-- Violation In Front Of Or Opposite: string (nullable = true)\n",
      " |-- House Number: string (nullable = true)\n",
      " |-- Street Name: string (nullable = true)\n",
      " |-- Intersecting Street: string (nullable = true)\n",
      " |-- Date First Observed: string (nullable = true)\n",
      " |-- Law Section: string (nullable = true)\n",
      " |-- Sub Division: string (nullable = true)\n",
      " |-- Violation Legal Code: string (nullable = true)\n",
      " |-- Days Parking In Effect: string (nullable = true)\n",
      " |-- From Hours In Effect: string (nullable = true)\n",
      " |-- To Hours In Effect: string (nullable = true)\n",
      " |-- Vehicle Color: string (nullable = true)\n",
      " |-- Unregistered Vehicle?: string (nullable = true)\n",
      " |-- Vehicle Year: string (nullable = true)\n",
      " |-- Meter Number: string (nullable = true)\n",
      " |-- Feet From Curb: string (nullable = true)\n",
      " |-- Violation Post Code: string (nullable = true)\n",
      " |-- Violation Description: string (nullable = true)\n",
      " |-- No Standing or Stopping Violation: string (nullable = true)\n",
      " |-- Hydrant Violation: string (nullable = true)\n",
      " |-- Double Parking Violation: string (nullable = true)\n",
      " |-- Census Tract: string (nullable = true)\n",
      "\n"
     ]
    }
   ],
   "source": [
    "nyc_tickets.printSchema()"
   ]
  },
  {
   "cell_type": "code",
   "execution_count": 8,
   "metadata": {
    "pycharm": {
     "name": "#%%\n"
    }
   },
   "outputs": [
    {
     "data": {
      "text/plain": [
       "42332687"
      ]
     },
     "execution_count": 8,
     "metadata": {},
     "output_type": "execute_result"
    }
   ],
   "source": [
    "nyc_tickets.count()"
   ]
  },
  {
   "cell_type": "markdown",
   "metadata": {},
   "source": [
    "Controlliamo se sono presenti colonne che hanno troppi valori nulli nel dataset."
   ]
  },
  {
   "cell_type": "code",
   "execution_count": 10,
   "metadata": {
    "pycharm": {
     "name": "#%%\n"
    }
   },
   "outputs": [
    {
     "name": "stdout",
     "output_type": "stream",
     "text": [
      "+--------------+--------+------------------+----------+----------+--------------+-----------------+------------+--------------+------------+------------+------------+-----------------------+------------------+------------------+---------------+-----------+--------------+------------+--------------+-------------------+----------------+---------------------------------+------------+-----------+-------------------+-------------------+-----------+------------+--------------------+----------------------+--------------------+------------------+-------------+---------------------+------------+------------+--------------+-------------------+---------------------+---------------------------------+-----------------+------------------------+------------+\n",
      "|Summons Number|Plate ID|Registration State|Plate Type|Issue Date|Violation Code|Vehicle Body Type|Vehicle Make|Issuing Agency|Street Code1|Street Code2|Street Code3|Vehicle Expiration Date|Violation Location|Violation Precinct|Issuer Precinct|Issuer Code|Issuer Command|Issuer Squad|Violation Time|Time First Observed|Violation County|Violation In Front Of Or Opposite|House Number|Street Name|Intersecting Street|Date First Observed|Law Section|Sub Division|Violation Legal Code|Days Parking In Effect|From Hours In Effect|To Hours In Effect|Vehicle Color|Unregistered Vehicle?|Vehicle Year|Meter Number|Feet From Curb|Violation Post Code|Violation Description|No Standing or Stopping Violation|Hydrant Violation|Double Parking Violation|Census Tract|\n",
      "+--------------+--------+------------------+----------+----------+--------------+-----------------+------------+--------------+------------+------------+------------+-----------------------+------------------+------------------+---------------+-----------+--------------+------------+--------------+-------------------+----------------+---------------------------------+------------+-----------+-------------------+-------------------+-----------+------------+--------------------+----------------------+--------------------+------------------+-------------+---------------------+------------+------------+--------------+-------------------+---------------------+---------------------------------+-----------------+------------------------+------------+\n",
      "|             0|    8835|                 0|         0|         0|             0|           238946|      274972|             0|           0|           0|           0|                      1|           6411258|                 1|              1|          1|       6358897|     6360470|          8111|           38116272|         4299047|                          6753915|     7168339|      23185|           30720431|                  2|          2|        5238|            35969247|               9833502|            18976952|          18976949|       487680|             37463668|           4|    34343987|             4|           11226906|              4872063|                         42332685|         42332685|                42332685|    42332686|\n",
      "+--------------+--------+------------------+----------+----------+--------------+-----------------+------------+--------------+------------+------------+------------+-----------------------+------------------+------------------+---------------+-----------+--------------+------------+--------------+-------------------+----------------+---------------------------------+------------+-----------+-------------------+-------------------+-----------+------------+--------------------+----------------------+--------------------+------------------+-------------+---------------------+------------+------------+--------------+-------------------+---------------------+---------------------------------+-----------------+------------------------+------------+\n",
      "\n"
     ]
    }
   ],
   "source": [
    "nyc_tickets.select([count(when(col(c).isNull(), c)).alias(c) for c in nyc_tickets.columns]).show()"
   ]
  },
  {
   "cell_type": "markdown",
   "metadata": {},
   "source": [
    "Evidenziamo come i campi \"Time First Observed\",\"Intersecting Street\",\"Violation Legal Code\",\"Unregistered Vehicle?\",\"Meter Number\",\"No Standing or Stopping Violation\",\"Hydrant Violation\",\"Double Parking Violation\",\"Census Tract\" presentino troppi valori nulli. Vengono eliminati dal dataset."
   ]
  },
  {
   "cell_type": "code",
   "execution_count": 6,
   "metadata": {
    "pycharm": {
     "name": "#%%\n"
    }
   },
   "outputs": [
    {
     "name": "stdout",
     "output_type": "stream",
     "text": [
      "root\n",
      " |-- Summons Number: long (nullable = true)\n",
      " |-- Plate ID: string (nullable = true)\n",
      " |-- Registration State: string (nullable = true)\n",
      " |-- Plate Type: string (nullable = true)\n",
      " |-- Issue Date: string (nullable = true)\n",
      " |-- Violation Code: integer (nullable = true)\n",
      " |-- Vehicle Body Type: string (nullable = true)\n",
      " |-- Vehicle Make: string (nullable = true)\n",
      " |-- Issuing Agency: string (nullable = true)\n",
      " |-- Street Code1: integer (nullable = true)\n",
      " |-- Street Code2: integer (nullable = true)\n",
      " |-- Street Code3: integer (nullable = true)\n",
      " |-- Vehicle Expiration Date: string (nullable = true)\n",
      " |-- Violation Location: double (nullable = true)\n",
      " |-- Violation Precinct: double (nullable = true)\n",
      " |-- Issuer Precinct: double (nullable = true)\n",
      " |-- Issuer Code: double (nullable = true)\n",
      " |-- Issuer Command: string (nullable = true)\n",
      " |-- Issuer Squad: string (nullable = true)\n",
      " |-- Violation Time: string (nullable = true)\n",
      " |-- Violation County: string (nullable = true)\n",
      " |-- Violation In Front Of Or Opposite: string (nullable = true)\n",
      " |-- House Number: string (nullable = true)\n",
      " |-- Street Name: string (nullable = true)\n",
      " |-- Date First Observed: string (nullable = true)\n",
      " |-- Law Section: string (nullable = true)\n",
      " |-- Sub Division: string (nullable = true)\n",
      " |-- Days Parking In Effect: string (nullable = true)\n",
      " |-- From Hours In Effect: string (nullable = true)\n",
      " |-- To Hours In Effect: string (nullable = true)\n",
      " |-- Vehicle Color: string (nullable = true)\n",
      " |-- Vehicle Year: string (nullable = true)\n",
      " |-- Feet From Curb: string (nullable = true)\n",
      " |-- Violation Post Code: string (nullable = true)\n",
      " |-- Violation Description: string (nullable = true)\n",
      "\n"
     ]
    }
   ],
   "source": [
    "nyc_tickets=nyc_tickets.drop(\"Time First Observed\",\"Intersecting Street\",\"Violation Legal Code\",\"Unregistered Vehicle?\",\"Meter Number\",\"No Standing or Stopping Violation\",\"Hydrant Violation\",\"Double Parking Violation\",\"Census Tract\")\n",
    "nyc_tickets.printSchema()"
   ]
  },
  {
   "cell_type": "markdown",
   "metadata": {},
   "source": [
    "Il campo 'Issue Date' viene diviso in tre colonne, 'Day','Year'e 'Month'."
   ]
  },
  {
   "cell_type": "code",
   "execution_count": 7,
   "metadata": {
    "pycharm": {
     "name": "#%%\n"
    }
   },
   "outputs": [],
   "source": [
    "nyc_tickets=nyc_tickets.withColumn(\"Issue Date\",nyc_tickets[\"Issue Date\"].cast(\"date\"))\n",
    "nyc_tickets=nyc_tickets.withColumn(\"Year\",col(\"Issue Date\").substr(1,4).cast(\"int\"))\n",
    "nyc_tickets=nyc_tickets.withColumn(\"Month\",col(\"Issue Date\").substr(6,2).cast(\"int\"))\n",
    "nyc_tickets=nyc_tickets.withColumn(\"Day\",col(\"Issue Date\").substr(9,2).cast(\"int\"))"
   ]
  },
  {
   "cell_type": "code",
   "execution_count": 8,
   "metadata": {},
   "outputs": [],
   "source": [
    "\n",
    "nyc_tickets = nyc_tickets.where(col(\"Plate ID\").isNotNull())"
   ]
  },
  {
   "cell_type": "markdown",
   "metadata": {},
   "source": [
    "La situazione finale del nostro dataset:"
   ]
  },
  {
   "cell_type": "code",
   "execution_count": 14,
   "metadata": {},
   "outputs": [
    {
     "name": "stdout",
     "output_type": "stream",
     "text": [
      "root\n",
      " |-- Summons Number: long (nullable = true)\n",
      " |-- Plate ID: string (nullable = true)\n",
      " |-- Registration State: string (nullable = true)\n",
      " |-- Plate Type: string (nullable = true)\n",
      " |-- Issue Date: date (nullable = true)\n",
      " |-- Violation Code: integer (nullable = true)\n",
      " |-- Vehicle Body Type: string (nullable = true)\n",
      " |-- Vehicle Make: string (nullable = true)\n",
      " |-- Issuing Agency: string (nullable = true)\n",
      " |-- Street Code1: integer (nullable = true)\n",
      " |-- Street Code2: integer (nullable = true)\n",
      " |-- Street Code3: integer (nullable = true)\n",
      " |-- Vehicle Expiration Date: string (nullable = true)\n",
      " |-- Violation Location: double (nullable = true)\n",
      " |-- Violation Precinct: double (nullable = true)\n",
      " |-- Issuer Precinct: double (nullable = true)\n",
      " |-- Issuer Code: double (nullable = true)\n",
      " |-- Issuer Command: string (nullable = true)\n",
      " |-- Issuer Squad: string (nullable = true)\n",
      " |-- Violation Time: string (nullable = true)\n",
      " |-- Violation County: string (nullable = true)\n",
      " |-- Violation In Front Of Or Opposite: string (nullable = true)\n",
      " |-- House Number: string (nullable = true)\n",
      " |-- Street Name: string (nullable = true)\n",
      " |-- Date First Observed: string (nullable = true)\n",
      " |-- Law Section: string (nullable = true)\n",
      " |-- Sub Division: string (nullable = true)\n",
      " |-- Days Parking In Effect: string (nullable = true)\n",
      " |-- From Hours In Effect: string (nullable = true)\n",
      " |-- To Hours In Effect: string (nullable = true)\n",
      " |-- Vehicle Color: string (nullable = true)\n",
      " |-- Vehicle Year: string (nullable = true)\n",
      " |-- Feet From Curb: string (nullable = true)\n",
      " |-- Violation Post Code: string (nullable = true)\n",
      " |-- Violation Description: string (nullable = true)\n",
      " |-- Year: integer (nullable = true)\n",
      " |-- Month: integer (nullable = true)\n",
      " |-- Day: integer (nullable = true)\n",
      "\n",
      "+--------------+--------+------------------+----------+----------+--------------+-----------------+------------+--------------+------------+------------+------------+-----------------------+------------------+------------------+---------------+-----------+--------------+------------+--------------+----------------+---------------------------------+------------+-----------+-------------------+-----------+------------+----------------------+--------------------+------------------+-------------+------------+--------------+-------------------+---------------------+----+-----+---+\n",
      "|Summons Number|Plate ID|Registration State|Plate Type|Issue Date|Violation Code|Vehicle Body Type|Vehicle Make|Issuing Agency|Street Code1|Street Code2|Street Code3|Vehicle Expiration Date|Violation Location|Violation Precinct|Issuer Precinct|Issuer Code|Issuer Command|Issuer Squad|Violation Time|Violation County|Violation In Front Of Or Opposite|House Number|Street Name|Date First Observed|Law Section|Sub Division|Days Parking In Effect|From Hours In Effect|To Hours In Effect|Vehicle Color|Vehicle Year|Feet From Curb|Violation Post Code|Violation Description|Year|Month|Day|\n",
      "+--------------+--------+------------------+----------+----------+--------------+-----------------+------------+--------------+------------+------------+------------+-----------------------+------------------+------------------+---------------+-----------+--------------+------------+--------------+----------------+---------------------------------+------------+-----------+-------------------+-----------+------------+----------------------+--------------------+------------------+-------------+------------+--------------+-------------------+---------------------+----+-----+---+\n",
      "|    1283294138| GBB9093|                NY|       PAS|2013-08-04|            46|             SUBN|        AUDI|             P|       37250|       13610|       21190|               20140831|              33.0|              33.0|           33.0|   921043.0|          0033|        0000|         0752A|            null|                                F|         712|   W 175 ST|                0.0|      408.0|          F1|               BBBBBBB|                 ALL|               ALL|           GY|      2013.0|           0.0|               null|                 null|2013|    8|  4|\n",
      "|    1283294151| 62416MB|                NY|       COM|2013-08-04|            46|              VAN|        FORD|             P|       37290|       40404|       40404|               20140430|              33.0|              33.0|           33.0|   921043.0|          0033|        0000|         1240P|              NY|                                O|         201|   W 177 ST|                0.0|      408.0|           C|               BBBBBBB|                 ALL|               ALL|           WH|      2012.0|           0.0|               null|                 null|2013|    8|  4|\n",
      "|    1283294163| 78755JZ|                NY|       COM|2013-08-05|            46|              P-U|       CHEVR|             P|       37030|       31190|       13610|               20140228|              33.0|              33.0|           33.0|   921043.0|          0033|        0000|         1243P|              NY|                                O|         520|   W 163 ST|                0.0|      408.0|          F7|               BBBBBBB|                 ALL|               ALL|         null|         0.0|           0.0|               null|                 null|2013|    8|  5|\n",
      "|    1283294175| 63009MA|                NY|       COM|2013-08-05|            46|              VAN|        FORD|             P|       37270|       11710|       12010|               20141031|              33.0|              33.0|           33.0|   921043.0|          0033|        0000|         0232P|              NY|                                O|         517|   W 176 ST|                0.0|      408.0|          F1|               BBBBBBB|                 ALL|               ALL|           WH|      2010.0|           0.0|               null|                 null|2013|    8|  5|\n",
      "|    1283294187| 91648MC|                NY|       COM|2013-08-08|            41|             TRLR|         GMC|             P|       37240|       12010|       31190|                      0|              33.0|              33.0|           33.0|   921043.0|          0033|        0000|         1239P|              NY|                                F|         590|   W 174 ST|                0.0|      408.0|          E1|               BBBBBBB|                 ALL|               ALL|           BR|      2012.0|           0.0|               null|                 null|2013|    8|  8|\n",
      "+--------------+--------+------------------+----------+----------+--------------+-----------------+------------+--------------+------------+------------+------------+-----------------------+------------------+------------------+---------------+-----------+--------------+------------+--------------+----------------+---------------------------------+------------+-----------+-------------------+-----------+------------+----------------------+--------------------+------------------+-------------+------------+--------------+-------------------+---------------------+----+-----+---+\n",
      "only showing top 5 rows\n",
      "\n"
     ]
    }
   ],
   "source": [
    "nyc_tickets.printSchema()\n",
    "nyc_tickets.show(5)"
   ]
  },
  {
   "cell_type": "code",
   "execution_count": 15,
   "metadata": {
    "pycharm": {
     "name": "#%%\n"
    }
   },
   "outputs": [],
   "source": [
    "nyc_tickets.createTempView(\"nycTable\")"
   ]
  },
  {
   "cell_type": "markdown",
   "metadata": {},
   "source": [
    "Sommiamo le multe registrate per ogni stato di appartenenza del veicolo, mostrando quali sono gli stati da cui provengono le auto più multate"
   ]
  },
  {
   "cell_type": "code",
   "execution_count": 16,
   "metadata": {
    "pycharm": {
     "name": "#%%"
    }
   },
   "outputs": [
    {
     "name": "stdout",
     "output_type": "stream",
     "text": [
      "+------------------+-------------+\n",
      "|registration_state|state_tickets|\n",
      "+------------------+-------------+\n",
      "|                NY|     32950575|\n",
      "|                NJ|      3853393|\n",
      "|                PA|      1069048|\n",
      "|                CT|       583468|\n",
      "|                FL|       543868|\n",
      "+------------------+-------------+\n",
      "only showing top 5 rows\n",
      "\n"
     ]
    }
   ],
   "source": [
    "states_tickets=spark.sql(\"SELECT `Registration State` as registration_state,count('Registration State') as `state_tickets` FROM nycTable GROUP BY `registration_state` ORDER BY `state_tickets` DESC LIMIT 50\")\n",
    "states_tickets.show(5)"
   ]
  },
  {
   "cell_type": "markdown",
   "metadata": {},
   "source": [
    "Una volta effettuata la query questa verrà memorizzata sul cluster di cassandra."
   ]
  },
  {
   "cell_type": "code",
   "execution_count": 17,
   "metadata": {
    "pycharm": {
     "name": "#%%\n"
    }
   },
   "outputs": [],
   "source": [
    "session.execute(\"CREATE TABLE IF NOT EXISTS states_tickets (ind int primary key,registration_state varchar, state_tickets int)\")\n",
    "stmt = session.prepare(\"INSERT INTO states_tickets (ind, registration_state, state_tickets) VALUES (?, ?, ?)\")\n",
    "\n",
    "for ind, item in states_tickets.toPandas().iterrows():\n",
    "    results = session.execute(stmt, [ind, item['registration_state'], item['state_tickets']])"
   ]
  },
  {
   "cell_type": "markdown",
   "metadata": {},
   "source": [
    "Analizziamo quali sono i tipi di vetture più multate. "
   ]
  },
  {
   "cell_type": "code",
   "execution_count": 20,
   "metadata": {
    "pycharm": {
     "name": "#%%\n"
    }
   },
   "outputs": [
    {
     "name": "stdout",
     "output_type": "stream",
     "text": [
      "+-----------------+-------------------------------------------+\n",
      "|vehicle_body_type|number_of_tickets_for_the_vehicle_body_type|\n",
      "+-----------------+-------------------------------------------+\n",
      "|             SUBN|                                   13708699|\n",
      "|             4DSD|                                   11922806|\n",
      "|              VAN|                                    6022624|\n",
      "|             DELV|                                    3065094|\n",
      "|              SDN|                                    1826268|\n",
      "+-----------------+-------------------------------------------+\n",
      "only showing top 5 rows\n",
      "\n"
     ]
    }
   ],
   "source": [
    "number_tickets_bt=spark.sql(\"SELECT `Vehicle Body Type` as vehicle_body_type, count(*) as `number_of_tickets_for_the_vehicle_body_type` FROM nycTable GROUP BY `vehicle_body_type` ORDER BY`number_of_tickets_for_the_vehicle_body_type` DESC LIMIT 50\")\n",
    "number_tickets_bt.show(5)"
   ]
  },
  {
   "cell_type": "code",
   "execution_count": 21,
   "metadata": {
    "pycharm": {
     "name": "#%%\n"
    }
   },
   "outputs": [],
   "source": [
    "session.execute(\"CREATE TABLE IF NOT EXISTS number_tickets_bt (ind int primary key,vehicle_body_type varchar, number_of_tickets_for_the_vehicle_body_type bigint)\")\n",
    "stmt = session.prepare(\"INSERT INTO number_tickets_bt (ind, vehicle_body_type, number_of_tickets_for_the_vehicle_body_type) VALUES (?, ?, ?)\")\n",
    "\n",
    "for ind, item in number_tickets_bt.toPandas().iterrows():\n",
    "    results = session.execute(stmt, [ind, item['vehicle_body_type'], item['number_of_tickets_for_the_vehicle_body_type']])"
   ]
  },
  {
   "cell_type": "markdown",
   "metadata": {},
   "source": [
    "Troviamo le tipolgie di multe più comuni."
   ]
  },
  {
   "cell_type": "code",
   "execution_count": 22,
   "metadata": {
    "pycharm": {
     "name": "#%%\n"
    }
   },
   "outputs": [
    {
     "name": "stdout",
     "output_type": "stream",
     "text": [
      "+--------------+---------------------------+\n",
      "|violation_code|number_of_tickets_violation|\n",
      "+--------------+---------------------------+\n",
      "|            21|                    5929420|\n",
      "|            38|                    4867892|\n",
      "|            14|                    3608660|\n",
      "|            36|                    3583082|\n",
      "|            37|                    2817819|\n",
      "+--------------+---------------------------+\n",
      "only showing top 5 rows\n",
      "\n"
     ]
    }
   ],
   "source": [
    "freq_violation=spark.sql(\"SELECT `Violation Code` as violation_code, count('Registration Code') as `number_of_tickets_violation` FROM nycTable GROUP BY `violation_code` ORDER BY `number_of_tickets_violation` DESC LIMIT 50\")\n",
    "freq_violation.show(5)"
   ]
  },
  {
   "cell_type": "code",
   "execution_count": 23,
   "metadata": {
    "pycharm": {
     "name": "#%%\n"
    }
   },
   "outputs": [],
   "source": [
    "session.execute(\"CREATE TABLE IF NOT EXISTS freq_violation (ind int primary key,violation_code int , number_of_tickets_violation int)\")\n",
    "stmt = session.prepare(\"INSERT INTO freq_violation (ind, violation_code, number_of_tickets_violation) VALUES (?, ?, ?)\")\n",
    "\n",
    "for ind, item in freq_violation.toPandas().iterrows():\n",
    "    results = session.execute(stmt, [ind, item['violation_code'], item['number_of_tickets_violation']])\n"
   ]
  },
  {
   "cell_type": "markdown",
   "metadata": {},
   "source": [
    "Troviamo i distretti in cui sono effettuate più multe. "
   ]
  },
  {
   "cell_type": "code",
   "execution_count": 24,
   "metadata": {
    "pycharm": {
     "name": "#%%\n"
    }
   },
   "outputs": [
    {
     "name": "stdout",
     "output_type": "stream",
     "text": [
      "+------------------+----------------+\n",
      "|violation_precinct|ticket_frequency|\n",
      "+------------------+----------------+\n",
      "|               0.0|         6411256|\n",
      "|              19.0|         2185007|\n",
      "|              18.0|         1514670|\n",
      "|              14.0|         1449738|\n",
      "|               1.0|         1234312|\n",
      "+------------------+----------------+\n",
      "only showing top 5 rows\n",
      "\n"
     ]
    }
   ],
   "source": [
    "violation_precinct=spark.sql(\"SELECT `Violation Precinct` as violation_precinct, count('Violation Precint') as `ticket_frequency` FROM nycTable GROUP BY `violation_precinct` ORDER BY `Ticket_Frequency` DESC LIMIT 50\")\n",
    "violation_precinct.show(5)"
   ]
  },
  {
   "cell_type": "code",
   "execution_count": 25,
   "metadata": {
    "pycharm": {
     "name": "#%%\n"
    }
   },
   "outputs": [],
   "source": [
    "session.execute(\"CREATE TABLE IF NOT EXISTS violation_precinct (ind int primary key,violation_precinct float, ticket_frequency float )\")\n",
    "stmt = session.prepare(\"INSERT INTO violation_precinct (ind, violation_precinct, ticket_frequency) VALUES (?, ?, ?)\")\n",
    "\n",
    "for ind, item in violation_precinct.toPandas().iterrows():\n",
    "    results = session.execute(stmt, [ind, item['violation_precinct'], item['ticket_frequency']])"
   ]
  },
  {
   "cell_type": "markdown",
   "metadata": {},
   "source": [
    "Selezioniamo le macchine più multate negli anni :"
   ]
  },
  {
   "cell_type": "code",
   "execution_count": 26,
   "metadata": {
    "pycharm": {
     "name": "#%%\n"
    }
   },
   "outputs": [
    {
     "name": "stdout",
     "output_type": "stream",
     "text": [
      "+----------+-------------+\n",
      "|     plate|plate_tickets|\n",
      "+----------+-------------+\n",
      "|BLANKPLATE|        56686|\n",
      "|   47603MD|         4003|\n",
      "|   49781MA|         3534|\n",
      "|   2028685|         3497|\n",
      "|    AN917T|         3312|\n",
      "+----------+-------------+\n",
      "only showing top 5 rows\n",
      "\n"
     ]
    }
   ],
   "source": [
    "most_tickets=spark.sql(\"SELECT `Plate ID` as plate, count('Plate ID') as `plate_tickets` FROM nycTable GROUP BY `plate` ORDER BY `plate_tickets` DESC LIMIT 50\")\n",
    "most_tickets.show(5)"
   ]
  },
  {
   "cell_type": "code",
   "execution_count": 27,
   "metadata": {
    "pycharm": {
     "name": "#%%\n"
    }
   },
   "outputs": [],
   "source": [
    "session.execute(\"CREATE TABLE IF NOT EXISTS most_tickets (ind int primary key,plate varchar, plate_tickets int)\")\n",
    "stmt = session.prepare(\"INSERT INTO most_tickets (ind, plate, plate_tickets) VALUES (?, ?, ?)\")\n",
    "\n",
    "for ind, item in most_tickets.toPandas().iterrows():\n",
    "    results = session.execute(stmt, [ind, item['plate'], item['plate_tickets']])"
   ]
  },
  {
   "cell_type": "markdown",
   "metadata": {
    "pycharm": {
     "name": "#%% md\n"
    }
   },
   "source": [
    "Le case automobilistiche più multate:"
   ]
  },
  {
   "cell_type": "code",
   "execution_count": 28,
   "metadata": {
    "pycharm": {
     "name": "#%%\n"
    }
   },
   "outputs": [
    {
     "name": "stdout",
     "output_type": "stream",
     "text": [
      "+-------------+-----------------+\n",
      "|vehicle_maker|maker_ticket_freq|\n",
      "+-------------+-----------------+\n",
      "|         FORD|          5374953|\n",
      "|        TOYOT|          4460841|\n",
      "|        HONDA|          4004792|\n",
      "|        NISSA|          3315479|\n",
      "|        CHEVR|          3114838|\n",
      "+-------------+-----------------+\n",
      "only showing top 5 rows\n",
      "\n"
     ]
    }
   ],
   "source": [
    "common_makers = spark.sql(\"SELECT `Vehicle Make` as vehicle_maker, count('Vehicle Make') as maker_ticket_freq FROM nycTable GROUP BY `vehicle_maker` ORDER BY `maker_ticket_freq` DESC LIMIT 50\")\n",
    "common_makers.show(5)"
   ]
  },
  {
   "cell_type": "code",
   "execution_count": 29,
   "metadata": {
    "pycharm": {
     "name": "#%%\n"
    }
   },
   "outputs": [],
   "source": [
    "session.execute(\"CREATE TABLE IF NOT EXISTS common_makers (ind int primary key,vehicle_maker varchar, maker_ticket_freq int)\")\n",
    "stmt = session.prepare(\"INSERT INTO common_makers (ind, vehicle_maker, maker_ticket_freq) VALUES (?, ?, ?)\")\n",
    "\n",
    "for ind, item in common_makers.toPandas().iterrows():\n",
    "    results = session.execute(stmt, [ind, item['vehicle_maker'], item['maker_ticket_freq']])\n"
   ]
  },
  {
   "cell_type": "markdown",
   "metadata": {
    "pycharm": {
     "name": "#%% md\n"
    }
   },
   "source": [
    "Per ogni anno individuiamo la somma delle multe registrate:"
   ]
  },
  {
   "cell_type": "code",
   "execution_count": 30,
   "metadata": {
    "pycharm": {
     "name": "#%%\n"
    }
   },
   "outputs": [
    {
     "name": "stdout",
     "output_type": "stream",
     "text": [
      "+----+----------+\n",
      "|year|total_year|\n",
      "+----+----------+\n",
      "|2015|  11736901|\n",
      "|2014|  10536290|\n",
      "|2016|  10240094|\n",
      "|2017|   5433075|\n",
      "|2013|   4377492|\n",
      "+----+----------+\n",
      "\n"
     ]
    }
   ],
   "source": [
    "best_year=spark.sql(\"SELECT `Year` as year, count('Summons Number') as `total_year` FROM nycTable GROUP BY `Year` ORDER BY `total_year` DESC LIMIT 50\")\n",
    "best_year.show(5)"
   ]
  },
  {
   "cell_type": "code",
   "execution_count": 31,
   "metadata": {
    "pycharm": {
     "name": "#%%\n"
    }
   },
   "outputs": [],
   "source": [
    "session.execute(\"CREATE TABLE IF NOT EXISTS best_year (ind int primary key,year int, total_year int)\")\n",
    "stmt = session.prepare(\"INSERT INTO best_year (ind, year, total_year) VALUES (?, ?, ?)\")\n",
    "\n",
    "for ind, item in best_year.toPandas().iterrows():\n",
    "    results = session.execute(stmt, [ind, item['year'], item['total_year']])"
   ]
  },
  {
   "cell_type": "markdown",
   "metadata": {
    "pycharm": {
     "name": "#%% md\n"
    }
   },
   "source": [
    "Indiviamo per ogni mese del periodo in analisi , la somma delle multe registrate. "
   ]
  },
  {
   "cell_type": "code",
   "execution_count": 32,
   "metadata": {
    "pycharm": {
     "name": "#%%\n"
    }
   },
   "outputs": [
    {
     "name": "stdout",
     "output_type": "stream",
     "text": [
      "+-----+-----------+\n",
      "|month|total_month|\n",
      "+-----+-----------+\n",
      "|   10|    3985513|\n",
      "|    3|    3851127|\n",
      "|    5|    3838998|\n",
      "|    1|    3808758|\n",
      "|    9|    3756397|\n",
      "|    6|    3709627|\n",
      "|    4|    3600577|\n",
      "|   11|    3481936|\n",
      "|    8|    3454190|\n",
      "|   12|    3054589|\n",
      "|    2|    3053541|\n",
      "|    7|    2728599|\n",
      "+-----+-----------+\n",
      "\n"
     ]
    }
   ],
   "source": [
    "best_month=spark.sql(\"SELECT `Month` as month, count('Summons Number') as `total_month` FROM nycTable GROUP BY `Month` ORDER BY `total_month` DESC LIMIT 50\")\n",
    "best_month.show(12)"
   ]
  },
  {
   "cell_type": "code",
   "execution_count": 34,
   "metadata": {
    "pycharm": {
     "name": "#%%\n"
    }
   },
   "outputs": [],
   "source": [
    "session.execute(\"CREATE TABLE IF NOT EXISTS best_month (ind int primary key,month int, total_month int)\")\n",
    "stmt = session.prepare(\"INSERT INTO best_month (ind, month, total_month) VALUES (?, ?, ?)\")\n",
    "\n",
    "for ind, item in best_month.toPandas().iterrows():\n",
    "    results = session.execute(stmt, [ind, item['month'], item['total_month']])\n",
    "    "
   ]
  },
  {
   "cell_type": "markdown",
   "metadata": {
    "pycharm": {
     "name": "#%% md\n"
    }
   },
   "source": [
    "Iniziamo adesso operazioni di pulizia del dataset prima di passare all'analisi di Machine Learning."
   ]
  },
  {
   "cell_type": "code",
   "execution_count": 9,
   "metadata": {
    "pycharm": {
     "name": "#%%\n"
    }
   },
   "outputs": [],
   "source": [
    "nyc_tickets=nyc_tickets.withColumn(\"Violation Precinct\",nyc_tickets[\"Violation Precinct\"].cast(\"int\"))\n",
    "nyc_tickets=nyc_tickets.withColumn(\"Issuer Precinct\",nyc_tickets[\"Issuer Precinct\"].cast(\"int\"))"
   ]
  },
  {
   "cell_type": "code",
   "execution_count": 10,
   "metadata": {
    "pycharm": {
     "name": "#%%\n"
    }
   },
   "outputs": [
    {
     "name": "stdout",
     "output_type": "stream",
     "text": [
      "+------------------+---+----+-----+----------+---------------+------------------+--------------+\n",
      "|Registration State|Day|Year|Month|Plate Type|Issuer Precinct|Violation Precinct|Issuing Agency|\n",
      "+------------------+---+----+-----+----------+---------------+------------------+--------------+\n",
      "|                NY|  4|2013|    8|       PAS|             33|                33|             P|\n",
      "|                NY|  4|2013|    8|       COM|             33|                33|             P|\n",
      "|                NY|  5|2013|    8|       COM|             33|                33|             P|\n",
      "|                NY|  5|2013|    8|       COM|             33|                33|             P|\n",
      "|                NY|  8|2013|    8|       COM|             33|                33|             P|\n",
      "|                NJ| 11|2013|    8|       PAS|             33|                33|             P|\n",
      "|                NY| 11|2013|    8|       PAS|             33|                33|             P|\n",
      "|                NJ|  7|2013|    8|       PAS|            976|                88|             X|\n",
      "|                NY|  7|2013|    8|       PAS|            976|                88|             X|\n",
      "|                NJ| 18|2013|    7|       PAS|            976|                79|             H|\n",
      "|                NY| 18|2013|    7|       PAS|            976|                79|             H|\n",
      "|                NY| 18|2013|    7|       PAS|            976|                79|             H|\n",
      "|                NY| 31|2013|    7|       PAS|            976|                79|             X|\n",
      "|                NY| 12|2013|    8|       PAS|            976|                79|             X|\n",
      "|                NY|  5|2013|    7|       COM|             13|                13|             P|\n",
      "|                NY| 12|2013|    8|       PAS|            730|                76|             T|\n",
      "|                NY| 26|2013|    7|       PAS|              0|                78|             T|\n",
      "|                MD| 30|2013|    7|       PAS|              0|                88|             T|\n",
      "|                NY| 23|2013|    7|       PAS|            730|                71|             T|\n",
      "|                NC| 29|2013|    7|       PAS|            730|                81|             T|\n",
      "+------------------+---+----+-----+----------+---------------+------------------+--------------+\n",
      "only showing top 20 rows\n",
      "\n",
      "root\n",
      " |-- Registration State: string (nullable = true)\n",
      " |-- Day: integer (nullable = true)\n",
      " |-- Year: integer (nullable = true)\n",
      " |-- Month: integer (nullable = true)\n",
      " |-- Plate Type: string (nullable = true)\n",
      " |-- Issuer Precinct: integer (nullable = true)\n",
      " |-- Violation Precinct: integer (nullable = true)\n",
      " |-- Issuing Agency: string (nullable = true)\n",
      "\n"
     ]
    },
    {
     "data": {
      "text/plain": [
       "42323852"
      ]
     },
     "execution_count": 10,
     "metadata": {},
     "output_type": "execute_result"
    }
   ],
   "source": [
    "ml_nyc = nyc_tickets.select(['Registration State', 'Day', 'Year', 'Month', 'Plate Type', 'Issuer Precinct', 'Violation Precinct', 'Issuing Agency'])\n",
    "ml_nyc.show()\n",
    "ml_nyc.printSchema()\n",
    "ml_nyc.count()"
   ]
  },
  {
   "cell_type": "code",
   "execution_count": 11,
   "metadata": {
    "pycharm": {
     "name": "#%%\n"
    }
   },
   "outputs": [],
   "source": [
    "ml_nyc=ml_nyc.na.drop()\n"
   ]
  },
  {
   "cell_type": "markdown",
   "metadata": {
    "pycharm": {
     "name": "#%% md\n"
    }
   },
   "source": [
    "Per effettuare le analisi di Machine learning utilizziamo colonne senza valori nulli."
   ]
  },
  {
   "cell_type": "code",
   "execution_count": 38,
   "metadata": {
    "pycharm": {
     "name": "#%%\n"
    }
   },
   "outputs": [
    {
     "name": "stdout",
     "output_type": "stream",
     "text": [
      "+------------------+---+----+-----+----------+---------------+------------------+--------------+\n",
      "|Registration State|Day|Year|Month|Plate Type|Issuer Precinct|Violation Precinct|Issuing Agency|\n",
      "+------------------+---+----+-----+----------+---------------+------------------+--------------+\n",
      "|                 0|  0|   0|    0|         0|              0|                 0|             0|\n",
      "+------------------+---+----+-----+----------+---------------+------------------+--------------+\n",
      "\n"
     ]
    }
   ],
   "source": [
    "ml_nyc.select([count(when(col(c).isNull(), c)).alias(c) for c in ml_nyc.columns]).show()\n",
    "\n"
   ]
  },
  {
   "cell_type": "markdown",
   "metadata": {
    "pycharm": {
     "name": "#%% md\n"
    }
   },
   "source": [
    "Le colonne che contengono stringhe devono essere trasformate in interi. Prima viene applicato lo String indexer e successivamente il OneHotEncoder"
   ]
  },
  {
   "cell_type": "code",
   "execution_count": 12,
   "metadata": {
    "pycharm": {
     "name": "#%%\n"
    }
   },
   "outputs": [],
   "source": [
    "cat_col = ['Plate Type', 'Issuing Agency']\n",
    "stages = []\n",
    "for categoricalCol in cat_col:\n",
    "    stringIndexer = StringIndexer(inputCol=categoricalCol, outputCol=categoricalCol + \"Index\")\n",
    "    encoder = OneHotEncoder(inputCols=[stringIndexer.getOutputCol()], outputCols=[categoricalCol + \"classVec\"])\n",
    "    stages += [stringIndexer, encoder]"
   ]
  },
  {
   "cell_type": "code",
   "execution_count": 13,
   "metadata": {
    "pycharm": {
     "name": "#%%\n"
    }
   },
   "outputs": [],
   "source": [
    "label_stringIdx = StringIndexer(inputCol='Registration State', outputCol=\"label\")\n",
    "stages += [label_stringIdx]"
   ]
  },
  {
   "cell_type": "markdown",
   "metadata": {
    "pycharm": {
     "name": "#%% md\n"
    }
   },
   "source": [
    "Creiamo il vettore con le features da considerare"
   ]
  },
  {
   "cell_type": "code",
   "execution_count": 14,
   "metadata": {
    "pycharm": {
     "name": "#%%\n"
    }
   },
   "outputs": [],
   "source": [
    "assemblerInputs = [c + \"classVec\" for c in cat_col]\n",
    "assembler = VectorAssembler(inputCols=assemblerInputs, outputCol=\"features\")\n",
    "stages += [assembler]\n"
   ]
  },
  {
   "cell_type": "markdown",
   "metadata": {
    "pycharm": {
     "name": "#%% md\n"
    }
   },
   "source": [
    "Effettuiamo le operazioni elencate in pipeline:"
   ]
  },
  {
   "cell_type": "code",
   "execution_count": 15,
   "metadata": {
    "pycharm": {
     "name": "#%%\n"
    }
   },
   "outputs": [],
   "source": [
    "half_Pipeline = Pipeline().setStages(stages)"
   ]
  },
  {
   "cell_type": "code",
   "execution_count": 16,
   "metadata": {
    "pycharm": {
     "name": "#%%\n"
    }
   },
   "outputs": [],
   "source": [
    "pipelineModel = half_Pipeline.fit(ml_nyc)"
   ]
  },
  {
   "cell_type": "code",
   "execution_count": 17,
   "metadata": {
    "pycharm": {
     "name": "#%%\n"
    }
   },
   "outputs": [],
   "source": [
    "final_ml_nyc = pipelineModel.transform(ml_nyc)"
   ]
  },
  {
   "cell_type": "code",
   "execution_count": 18,
   "metadata": {
    "pycharm": {
     "name": "#%%\n"
    }
   },
   "outputs": [],
   "source": [
    "selection = [\"label\", \"features\"]\n",
    "dataset = final_ml_nyc.select(selection)"
   ]
  },
  {
   "cell_type": "code",
   "execution_count": 19,
   "metadata": {
    "pycharm": {
     "name": "#%%\n"
    }
   },
   "outputs": [],
   "source": [
    "(train, test) = dataset.randomSplit([0.7, 0.3], seed=100)"
   ]
  },
  {
   "cell_type": "markdown",
   "metadata": {
    "pycharm": {
     "name": "#%% md\n"
    }
   },
   "source": [
    "Per effettuare le previsioni utilizziamo una Logistic Regression: dapprima alleniamo il modello sui dati di train appena generati effettuando successivamente le previsioni sui dati di test."
   ]
  },
  {
   "cell_type": "code",
   "execution_count": 20,
   "metadata": {
    "pycharm": {
     "name": "#%%\n"
    }
   },
   "outputs": [],
   "source": [
    "logreg = LogisticRegression(labelCol=\"label\", featuresCol=\"features\", maxIter=10)\n",
    "logregModel = logreg.fit(train)"
   ]
  },
  {
   "cell_type": "code",
   "execution_count": 23,
   "metadata": {
    "pycharm": {
     "name": "#%%\n"
    }
   },
   "outputs": [],
   "source": [
    "predictions = logregModel.transform(test)"
   ]
  },
  {
   "cell_type": "markdown",
   "metadata": {},
   "source": [
    "Efficenza del modello:"
   ]
  },
  {
   "cell_type": "code",
   "execution_count": 24,
   "metadata": {},
   "outputs": [
    {
     "data": {
      "text/plain": [
       "0.6623773421608148"
      ]
     },
     "execution_count": 24,
     "metadata": {},
     "output_type": "execute_result"
    }
   ],
   "source": [
    "evaluator = BinaryClassificationEvaluator(rawPredictionCol=\"rawPrediction\")\n",
    "evaluator.evaluate(predictions)"
   ]
  },
  {
   "cell_type": "markdown",
   "metadata": {
    "pycharm": {
     "name": "#%% md\n"
    }
   },
   "source": [
    "Accuratezza del modello:"
   ]
  },
  {
   "cell_type": "code",
   "execution_count": 25,
   "metadata": {
    "pycharm": {
     "name": "#%%\n"
    }
   },
   "outputs": [
    {
     "data": {
      "text/plain": [
       "0.7798278859368312"
      ]
     },
     "execution_count": 25,
     "metadata": {},
     "output_type": "execute_result"
    }
   ],
   "source": [
    "# Accuracy: Evaluate model\n",
    "evaluator = MulticlassClassificationEvaluator(predictionCol=\"prediction\", metricName = 'accuracy')\n",
    "evaluator.evaluate(predictions)"
   ]
  }
 ],
 "metadata": {
  "kernelspec": {
   "display_name": "Python 3",
   "language": "python",
   "name": "python3"
  },
  "language_info": {
   "codemirror_mode": {
    "name": "ipython",
    "version": 3
   },
   "file_extension": ".py",
   "mimetype": "text/x-python",
   "name": "python",
   "nbconvert_exporter": "python",
   "pygments_lexer": "ipython3",
   "version": "3.7.3"
  }
 },
 "nbformat": 4,
 "nbformat_minor": 1
}